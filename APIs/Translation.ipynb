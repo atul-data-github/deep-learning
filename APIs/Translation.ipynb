{
 "cells": [
  {
   "cell_type": "code",
   "execution_count": 1,
   "metadata": {},
   "outputs": [],
   "source": [
    "from transformers import MarianTokenizer, MarianMTModel"
   ]
  },
  {
   "cell_type": "code",
   "execution_count": 4,
   "metadata": {},
   "outputs": [],
   "source": [
    "lang = \"es\"\n",
    "target_lang = \"en\"\n",
    "model_name = f'Helsinki-NLP/opus-mt-{lang}-{target_lang}'\n",
    "# Download the model and the tokenizer\n",
    "es_en_model = MarianMTModel.from_pretrained(model_name)\n",
    "es_en_tokenizer = MarianTokenizer.from_pretrained(model_name)"
   ]
  },
  {
   "cell_type": "code",
   "execution_count": 5,
   "metadata": {},
   "outputs": [],
   "source": [
    "lang = \"en\"\n",
    "target_lang = \"es\"\n",
    "model_name = f'Helsinki-NLP/opus-mt-{lang}-{target_lang}'\n",
    "# Download the model and the tokenizer\n",
    "en_es_model = MarianMTModel.from_pretrained(model_name)\n",
    "en_es_tokenizer = MarianTokenizer.from_pretrained(model_name)"
   ]
  },
  {
   "cell_type": "code",
   "execution_count": 7,
   "metadata": {},
   "outputs": [
    {
     "data": {
      "text/plain": [
       "['this is a tutorial to demonstrate use of translation api from huggingface']"
      ]
     },
     "execution_count": 7,
     "metadata": {},
     "output_type": "execute_result"
    }
   ],
   "source": [
    "en_text = [\"this is a tutorial to demonstrate use of translation api from huggingface\"]\n",
    "en_text"
   ]
  },
  {
   "cell_type": "code",
   "execution_count": 2,
   "metadata": {},
   "outputs": [],
   "source": [
    "# Tokenize the text\n",
    "text = \"amo el idioma ingles\"\n",
    "batch = en_es_tokenizer.prepare_seq2seq_batch(src_texts=en_text,return_tensors=\"pt\")\n",
    "                \n",
    "# Make sure that the tokenized text does not exceed the maximum\n",
    "# allowed size of 512\n",
    "batch[\"input_ids\"] = batch[\"input_ids\"][:, :512]\n",
    "batch[\"attention_mask\"] = batch[\"attention_mask\"][:, :512]\n",
    "# Perform the translation and decode the output\n",
    "translation = en_es_model.generate(**batch)\n",
    "out = en_es_tokenizer.batch_decode(translation, skip_special_tokens=True)"
   ]
  },
  {
   "cell_type": "code",
   "execution_count": 3,
   "metadata": {},
   "outputs": [],
   "source": [
    "# Tokenize the text\n",
    "batch = es_en_tokenizer.prepare_seq2seq_batch(src_texts=out,return_tensors=\"pt\")\n",
    "                \n",
    "# Make sure that the tokenized text does not exceed the maximum\n",
    "# allowed size of 512\n",
    "batch[\"input_ids\"] = batch[\"input_ids\"][:, :512]\n",
    "batch[\"attention_mask\"] = batch[\"attention_mask\"][:, :512]\n",
    "# Perform the translation and decode the output\n",
    "translation = es_en_model.generate(**batch)\n",
    "out2 = es_en_tokenizer.batch_decode(translation, skip_special_tokens=True)"
   ]
  },
  {
   "cell_type": "code",
   "execution_count": 6,
   "metadata": {},
   "outputs": [],
   "source": [
    "for orig_utter,revert_translated  in zip(en_text,out2):\n",
    "    print(\"orig:\",orig_utter)\n",
    "    print(\"revert:\",revert_translated)\n",
    "    print()"
   ]
  },
  {
   "cell_type": "code",
   "execution_count": null,
   "metadata": {},
   "outputs": [],
   "source": []
  }
 ],
 "metadata": {
  "kernelspec": {
   "display_name": "Python 3",
   "language": "python",
   "name": "python3"
  },
  "language_info": {
   "codemirror_mode": {
    "name": "ipython",
    "version": 3
   },
   "file_extension": ".py",
   "mimetype": "text/x-python",
   "name": "python",
   "nbconvert_exporter": "python",
   "pygments_lexer": "ipython3",
   "version": "3.7.3"
  }
 },
 "nbformat": 4,
 "nbformat_minor": 5
}
